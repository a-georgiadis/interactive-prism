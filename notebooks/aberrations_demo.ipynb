{
 "cells": [
  {
   "cell_type": "code",
   "execution_count": 11,
   "metadata": {},
   "outputs": [],
   "source": [
    "import numpy as np\n",
    "%matplotlib widget\n",
    "import matplotlib.pyplot as plt\n",
    "import ipywidgets as widgets\n",
    "from matplotlib import colormaps"
   ]
  },
  {
   "cell_type": "code",
   "execution_count": 4,
   "metadata": {},
   "outputs": [],
   "source": [
    "# Converts from Cartesian to Polar Coordinates\n",
    "def cart2pol(x, y):\n",
    "    \"\"\"Converts from cartesian to polar coordinates\n",
    "\n",
    "    Args:\n",
    "        x (np.array): x values of coordinate array\n",
    "        y (np.array): y values of coordinate array\n",
    "    \"\"\"\n",
    "    rho = np.sqrt(x**2 + y**2)\n",
    "    phi = np.arctan2(y, x)\n",
    "    return(rho, phi)\n",
    "# Seidel\n",
    "def seidelWavefrontMap(seidelCoeffs, height, arraySize = 512):\n",
    "    \"\"\"Generates wavefront error for a specific point in pupil\n",
    "\n",
    "    Args:\n",
    "        seidelCoeffs (np.array): Array of number of waves of each seidel abberation\n",
    "    \"\"\"\n",
    "    # Check Input Correct\n",
    "    if len(seidelCoeffs) != 8: # Check if match seidelNums length\n",
    "        print(\"Wrong Shape input: Expected \"+str(np.size(seidelNums))+\" got \" + str(np.size(seidelCoeffs)))\n",
    "        return\n",
    "\n",
    "    seidelNums = [\n",
    "        # PseudoAbberations\n",
    "        [0,1,-1], # Tilt X\n",
    "        [0,1,1], # Tilt Y\n",
    "        [0,2,0], # Defocus\n",
    "        # Point Imaging Abberations\n",
    "        [0,4,0], # Spherical\n",
    "        [1,3,1], # Coma\n",
    "        [2,2,2], # Astigmatism\n",
    "        # Field Abberations\n",
    "        [2,2,0], # Field Curvature\n",
    "        [3,1,1]  # Distortion\n",
    "    ]\n",
    "    totalWF = np.zeros((arraySize, arraySize))\n",
    "    x = np.linspace(-1,1,arraySize)\n",
    "    y = np.linspace(-1,1,arraySize)\n",
    "    (xm,ym) = np.meshgrid(x,y)\n",
    "    (rho,phi) = cart2pol(xm,ym)\n",
    "    i = 0\n",
    "    for coeff in seidelCoeffs:\n",
    "        powers = seidelNums[i]\n",
    "        if powers[2] == -1:\n",
    "            seidelWF = coeff*np.power(height,powers[0])*np.power(rho,powers[1])*np.sin(phi)\n",
    "        else:\n",
    "            seidelWF = coeff*np.power(height,powers[0])*np.power(rho,powers[1])*np.power(np.cos(phi),powers[2])\n",
    "        totalWF = np.add(totalWF, seidelWF)\n",
    "        i += 1\n",
    "    totalWF[rho>1] = np.NAN\n",
    "    return totalWF"
   ]
  },
  {
   "cell_type": "code",
   "execution_count": 41,
   "metadata": {},
   "outputs": [
    {
     "data": {
      "text/plain": [
       "<matplotlib.colorbar.Colorbar at 0x10fc46f90>"
      ]
     },
     "execution_count": 41,
     "metadata": {},
     "output_type": "execute_result"
    }
   ],
   "source": [
    "plt.close('all')\n",
    "plt.ioff()\n",
    "fig, ax = plt.subplots(1,1,figsize=(4,4))\n",
    "\n",
    "defocus = 2\n",
    "spherical = -2\n",
    "wavefrontMap = seidelWavefrontMap([0,0,defocus,spherical,0,0,0,0],1)\n",
    "cmap = colormaps.get_cmap('viridis')\n",
    "cmap.set_bad(\"black\")\n",
    "wf_map = ax.imshow(np.real(np.exp(np.pi*1j*wavefrontMap)),cmap=cmap)\n",
    "ax.set_ylabel(\"$k_{y}$\")\n",
    "ax.set_xlabel(\"$k_{x}$\")\n",
    "ax.tick_params(left = False, right = False , labelleft = False , labelbottom = False, bottom = False) \n",
    "ax.set_title(\"Abberations\")\n",
    "plt.colorbar(wf_map,ax=ax)\n",
    "# fig.savefig(\"abberations.png\")\n"
   ]
  },
  {
   "cell_type": "code",
   "execution_count": null,
   "metadata": {},
   "outputs": [],
   "source": []
  },
  {
   "cell_type": "code",
   "execution_count": null,
   "metadata": {},
   "outputs": [],
   "source": [
    "abberation_applied = [2,0]\n",
    "\n",
    "\n",
    "\n",
    "def update_defocus(change):\n",
    "    abberation_applied[0] = change[\"new\"]\n",
    "    update_phase_plot()\n",
    "def update_spherical(change):\n",
    "    abberation_applied[1] = change[\"new\"]\n",
    "    update_phase_plot()\n",
    "def update_phase_plot():\n",
    "    \n",
    "    wavefrontMap = seidelWavefrontMap([0,0,abberation_applied[0],abberation_applied[1],0,0,0,0],1)\n",
    "    wf_map.set_data(np.real(np.exp(np.pi*1j*wavefrontMap)))\n",
    "    \n",
    "    fig.canvas.draw_idle()\n",
    "    return None\n",
    "    \n",
    "\n",
    "\n",
    "\n",
    "# Create frame slider\n",
    "defocus_slider = widgets.IntSlider(\n",
    "    value=2,\n",
    "    min=-4,\n",
    "    max=4,\n",
    "    description='Waves defocus',\n",
    "    continuous_update=False,  # Only update when slider is released\n",
    "    style = {'description_width': 'initial'},\n",
    "    layout=widgets.Layout(width='300px'),\n",
    ")\n",
    "\n",
    "spherical_slider = widgets.FloatSlider(\n",
    "    value=0,\n",
    "    min=-4,\n",
    "    max=4,\n",
    "    step=0.1,\n",
    "    description='Waves spherical',\n",
    "    continuous_update=False,  # Only update when slider is released\n",
    "    style = {'description_width': 'initial'},\n",
    "    layout=widgets.Layout(width='300px'),\n",
    ")\n",
    "\n",
    "\n",
    "\n",
    "spherical_slider.observe(update_spherical, names='value')\n",
    "defocus_slider.observe(update_defocus, names=\"value\")\n",
    "\n",
    "controls = widgets.HBox([defocus_slider,spherical_slider])\n",
    "\n",
    "player = widgets.VBox([controls, fig.canvas])"
   ]
  },
  {
   "cell_type": "markdown",
   "metadata": {},
   "source": [
    "## Abberation Simulator"
   ]
  },
  {
   "cell_type": "code",
   "execution_count": 45,
   "metadata": {},
   "outputs": [
    {
     "data": {
      "application/vnd.jupyter.widget-view+json": {
       "model_id": "0b494162db4c4f8c8bce987ba91361f3",
       "version_major": 2,
       "version_minor": 0
      },
      "text/plain": [
       "VBox(children=(HBox(children=(IntSlider(value=2, continuous_update=False, description='Waves defocus', layout=…"
      ]
     },
     "metadata": {},
     "output_type": "display_data"
    }
   ],
   "source": [
    "# | label: app:abberations\n",
    "# Linear Phase Shift\n",
    "display(player)"
   ]
  },
  {
   "cell_type": "code",
   "execution_count": null,
   "metadata": {},
   "outputs": [],
   "source": []
  }
 ],
 "metadata": {
  "kernelspec": {
   "display_name": "interactive-prism",
   "language": "python",
   "name": "python3"
  },
  "language_info": {
   "codemirror_mode": {
    "name": "ipython",
    "version": 3
   },
   "file_extension": ".py",
   "mimetype": "text/x-python",
   "name": "python",
   "nbconvert_exporter": "python",
   "pygments_lexer": "ipython3",
   "version": "3.12.7"
  }
 },
 "nbformat": 4,
 "nbformat_minor": 2
}
