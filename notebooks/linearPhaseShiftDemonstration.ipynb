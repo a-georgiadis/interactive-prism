{
 "cells": [
  {
   "cell_type": "code",
   "execution_count": 40,
   "metadata": {},
   "outputs": [],
   "source": [
    "import numpy as np\n",
    "%matplotlib widget\n",
    "import matplotlib.pyplot as plt\n",
    "import ipywidgets as widgets"
   ]
  },
  {
   "cell_type": "code",
   "execution_count": null,
   "metadata": {},
   "outputs": [],
   "source": [
    "im_shape = (512,512)\n",
    "pixel_size = 0.1 # Angstroms\n",
    "k_max = 1\n",
    "f = 1\n",
    "\n",
    "def genfMask(shape,f):\n",
    "    x = np.arange(shape[0])\n",
    "    y = np.arange(shape[1])\n",
    "    \n",
    "    \n",
    "    # Create Mask\n",
    "    return np.logical_and(\n",
    "        np.mod(x[:,None],f) == 0,\n",
    "        np.mod(y[None,:],f) == 0,\n",
    "    )"
   ]
  },
  {
   "cell_type": "code",
   "execution_count": 42,
   "metadata": {},
   "outputs": [],
   "source": [
    "k_x = np.fft.fftfreq(im_shape[0], pixel_size)[:,None]\n",
    "k_y = np.fft.fftfreq(im_shape[1], pixel_size)[None,:]\n",
    "\n",
    "k_r = np.sqrt(k_x**2+k_y**2)\n",
    "\n",
    "Psi0 = np.clip((k_max-k_r)/(k_x[1]-k_x[0])+1/2,0,1)\n",
    "\n",
    "Psi0 = Psi0*genfMask(im_shape, f)\n",
    "\n",
    "psi0 = np.fft.ifft2(Psi0)\n",
    "\n"
   ]
  },
  {
   "cell_type": "code",
   "execution_count": 43,
   "metadata": {},
   "outputs": [],
   "source": [
    "dr = (3,0) # Angstroms\n",
    "\n",
    "psi = np.fft.ifft2(\n",
    "    np.fft.fft2(psi0)*np.exp(-2j*np.pi*(k_x*dr[0]+k_y*dr[1]))\n",
    ")\n",
    "Psi = np.fft.fft2(psi)"
   ]
  },
  {
   "cell_type": "code",
   "execution_count": 44,
   "metadata": {},
   "outputs": [
    {
     "data": {
      "text/plain": [
       "<matplotlib.image.AxesImage at 0x11c28d610>"
      ]
     },
     "execution_count": 44,
     "metadata": {},
     "output_type": "execute_result"
    },
    {
     "data": {
      "application/vnd.jupyter.widget-view+json": {
       "model_id": "59dec18ac9e44ae9a7de2573615a7856",
       "version_major": 2,
       "version_minor": 0
      },
      "image/png": "[encoded data removed]",
      "text/html": [
       "\n",
       "            <div style=\"display: inline-block;\">\n",
       "                <div class=\"jupyter-widgets widget-label\" style=\"text-align: center;\">\n",
       "                    Figure\n",
       "                </div>\n",
       "                <img src='data:image/png;base64,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' width=640.0/>\n",
       "            </div>\n",
       "        "
      ],
      "text/plain": [
       "Canvas(toolbar=Toolbar(toolitems=[('Home', 'Reset original view', 'home', 'home'), ('Back', 'Back to previous …"
      ]
     },
     "metadata": {},
     "output_type": "display_data"
    }
   ],
   "source": [
    "fix, ax = plt.subplots(1,2)\n",
    "\n",
    "ax[0].imshow(\n",
    "    np.fft.fftshift(np.angle(Psi0) *     np.abs(Psi0)),\n",
    "    vmin = -np.pi,\n",
    "    vmax = np.pi,\n",
    "    cmap = \"hsv\",\n",
    ")\n",
    "ax[1].imshow(\n",
    "    np.fft.fftshift(np.angle(Psi) *     np.abs(Psi)),\n",
    "    vmin = -np.pi,\n",
    "    vmax = np.pi,\n",
    "    cmap = \"hsv\",\n",
    ")\n",
    "\n"
   ]
  },
  {
   "cell_type": "code",
   "execution_count": 45,
   "metadata": {},
   "outputs": [],
   "source": [
    "plt.close('all')\n",
    "plt.ioff()\n",
    "fig, ax = plt.subplots(2,2,figsize=(7,7))\n",
    "\n",
    "dr = (3,0) # Angstroms\n",
    "\n",
    "psi = np.fft.ifft2(\n",
    "    np.fft.fft2(psi0)*np.exp(-2j*np.pi*(k_x*dr[0]+k_y*dr[1]))\n",
    ")\n",
    "Psi = np.fft.fft2(psi)\n",
    "\n",
    "freq_phase = ax[0,1].imshow(\n",
    "    np.fft.fftshift(np.angle(Psi) *     np.abs(Psi)),\n",
    "    vmin = -np.pi,\n",
    "    vmax = np.pi,\n",
    "    cmap = \"hsv\",\n",
    ")\n",
    "ax[0,1].set_ylim((im_shape[1]/2-60,im_shape[1]/2+60))\n",
    "ax[0,1].set_xlim((im_shape[1]/2-60,im_shape[1]/2+60))\n",
    "freq_no_phase = ax[0,0].imshow(\n",
    "    np.fft.fftshift(np.abs(Psi0)),\n",
    "    vmin = -np.pi,\n",
    "    vmax = np.pi,\n",
    "    cmap = \"hsv\",\n",
    ")\n",
    "ax[0,0].set_xlim((im_shape[1]/2-60,im_shape[1]/2+60))\n",
    "ax[0,0].set_ylim((im_shape[1]/2-60,im_shape[1]/2+60))\n",
    "\n",
    "real_no_phase = ax[1,0].imshow(np.fft.fftshift(np.abs(psi0)))\n",
    "real_phase = ax[1,1].imshow(np.fft.fftshift(np.abs(psi)))\n",
    "\n",
    "\n",
    "# Plot Naming\n",
    "ax[0,0].set_title(\"Reciprical Space no Shift Applied\")\n",
    "ax[0,1].set_title(\"Linear Phase Shift Applied\")\n",
    "ax[1,0].set_title(\"Probe\")\n",
    "ax[1,1].set_title(\"Probe w/ Linear Phase Shift\")\n",
    "\n",
    "ax[0,0].set_ylabel(\"$k_{y}$\")\n",
    "ax[0,0].set_xlabel(\"$k_{x}$\")\n",
    "ax[0,1].set_ylabel(\"$k_{y}$\")\n",
    "ax[0,1].set_xlabel(\"$k_{x}$\")\n",
    "ax[1,0].set_ylabel(\"y (Å)\")\n",
    "ax[1,0].set_xlabel(\"x (Å)\")\n",
    "ax[1,1].set_ylabel(\"y (Å)\")\n",
    "ax[1,1].set_xlabel(\"x (Å)\")\n",
    "ax[0,1].tick_params(left = False, right = False , labelleft = False , labelbottom = False, bottom = False) \n",
    "ax[0,0].tick_params(left = False, right = False , labelleft = False , labelbottom = False, bottom = False) \n",
    "ax[1,1].tick_params(left = False, right = False , labelleft = False , labelbottom = False, bottom = False) \n",
    "ax[1,0].tick_params(left = False, right = False , labelleft = False , labelbottom = False, bottom = False) \n",
    "\n"
   ]
  },
  {
   "cell_type": "code",
   "execution_count": null,
   "metadata": {},
   "outputs": [],
   "source": []
  },
  {
   "cell_type": "code",
   "execution_count": null,
   "metadata": {},
   "outputs": [
    {
     "name": "stderr",
     "output_type": "stream",
     "text": [
      "No such comm: 4ac51232d56447a3a0b5763316b120d5\n",
      "No such comm: 4ac51232d56447a3a0b5763316b120d5\n",
      "No such comm: 4ac51232d56447a3a0b5763316b120d5\n",
      "No such comm: 4ac51232d56447a3a0b5763316b120d5\n",
      "No such comm: 4ac51232d56447a3a0b5763316b120d5\n",
      "No such comm: 4ac51232d56447a3a0b5763316b120d5\n",
      "No such comm: 4ac51232d56447a3a0b5763316b120d5\n",
      "No such comm: 4ac51232d56447a3a0b5763316b120d5\n",
      "No such comm: 4ac51232d56447a3a0b5763316b120d5\n",
      "No such comm: 4ac51232d56447a3a0b5763316b120d5\n",
      "No such comm: 4ac51232d56447a3a0b5763316b120d5\n",
      "No such comm: 4ac51232d56447a3a0b5763316b120d5\n",
      "No such comm: 4ac51232d56447a3a0b5763316b120d5\n",
      "No such comm: 4ac51232d56447a3a0b5763316b120d5\n",
      "No such comm: 4ac51232d56447a3a0b5763316b120d5\n",
      "No such comm: 4ac51232d56447a3a0b5763316b120d5\n",
      "No such comm: 4ac51232d56447a3a0b5763316b120d5\n"
     ]
    },
    {
     "name": "stderr",
     "output_type": "stream",
     "text": [
      "No such comm: 710893e2afe94d89b6bb53aca2f69262\n"
     ]
    },
    {
     "name": "stderr",
     "output_type": "stream",
     "text": [
      "No such comm: 59dec18ac9e44ae9a7de2573615a7856\n"
     ]
    }
   ],
   "source": [
    "phaseApplied = [0,0]\n",
    "\n",
    "\n",
    "\n",
    "def update_y(change):\n",
    "    phaseApplied[0] = change[\"new\"]\n",
    "    update_phase_plot()\n",
    "def update_x(change):\n",
    "    phaseApplied[1] = change[\"new\"]\n",
    "    update_phase_plot()\n",
    "def update_phase_plot():\n",
    "    dr = phaseApplied\n",
    "    psi = np.fft.ifft2(\n",
    "    np.fft.fft2(psi0)*np.exp(-2j*np.pi*(k_x*dr[0]+k_y*dr[1]))\n",
    "    )\n",
    "    Psi = np.fft.fft2(psi)\n",
    "    \n",
    "    real_phase.set_data(np.fft.fftshift(np.abs(psi)))\n",
    "    \n",
    "    freq_phase.set_data(np.fft.fftshift(np.angle(Psi) *     np.abs(Psi)))\n",
    "    \n",
    "    fig.canvas.draw_idle()\n",
    "    return None\n",
    "    \n",
    "\n",
    "\n",
    "# Create frame slider\n",
    "x_slider = widgets.IntSlider(\n",
    "    value=0,\n",
    "    min=0,\n",
    "    max=25,\n",
    "    description='X',\n",
    "    continuous_update=False,  # Only update when slider is released\n",
    "    style = {'description_width': 'initial'},\n",
    "    layout=widgets.Layout(width='300px'),\n",
    ")\n",
    "\n",
    "# Create frame slider\n",
    "y_slider = widgets.IntSlider(\n",
    "    value=0,\n",
    "    min=0,\n",
    "    max=25,\n",
    "    description='Y',\n",
    "    continuous_update=False,  # Only update when slider is released\n",
    "    style = {'description_width': 'initial'},\n",
    "    layout=widgets.Layout(width='300px'),\n",
    ")\n",
    "\n",
    "x_slider.observe(update_x, names='value')\n",
    "y_slider.observe(update_y, names=\"value\")\n",
    "\n",
    "controls = widgets.HBox([x_slider,y_slider])\n",
    "\n",
    "player = widgets.VBox([controls, fig.canvas])"
   ]
  },
  {
   "cell_type": "markdown",
   "metadata": {},
   "source": [
    "## Linear Phase Shift Translation"
   ]
  },
  {
   "cell_type": "code",
   "execution_count": null,
   "metadata": {},
   "outputs": [
    {
     "data": {
      "application/vnd.jupyter.widget-view+json": {
       "model_id": "507e6e7ff97748fcb5481b0f0f58e610",
       "version_major": 2,
       "version_minor": 0
      },
      "text/plain": [
       "VBox(children=(HBox(children=(IntSlider(value=0, continuous_update=False, description='X', layout=Layout(width…"
      ]
     },
     "metadata": {},
     "output_type": "display_data"
    }
   ],
   "source": [
    "# | label: app:linear_phase_shift\n",
    "# Linear Phase Shift\n",
    "display(player)"
   ]
  },
  {
   "cell_type": "code",
   "execution_count": null,
   "metadata": {},
   "outputs": [],
   "source": []
  }
 ],
 "metadata": {
  "kernelspec": {
   "display_name": "interactive-prism",
   "language": "python",
   "name": "python3"
  },
  "language_info": {
   "codemirror_mode": {
    "name": "ipython",
    "version": 3
   },
   "file_extension": ".py",
   "mimetype": "text/x-python",
   "name": "python",
   "nbconvert_exporter": "python",
   "pygments_lexer": "ipython3",
   "version": "3.12.7"
  }
 },
 "nbformat": 4,
 "nbformat_minor": 2
}
